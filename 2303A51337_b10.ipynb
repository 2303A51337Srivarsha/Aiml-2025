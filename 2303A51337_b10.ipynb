{
  "nbformat": 4,
  "nbformat_minor": 0,
  "metadata": {
    "colab": {
      "provenance": [],
      "toc_visible": true,
      "authorship_tag": "ABX9TyMZZ7QPITQgyw2SvLMUgTOX",
      "include_colab_link": true
    },
    "kernelspec": {
      "name": "python3",
      "display_name": "Python 3"
    },
    "language_info": {
      "name": "python"
    }
  },
  "cells": [
    {
      "cell_type": "markdown",
      "metadata": {
        "id": "view-in-github",
        "colab_type": "text"
      },
      "source": [
        "<a href=\"https://colab.research.google.com/github/2303A51337Srivarsha/Aiml-2025/blob/main/2303A51337_b10.ipynb\" target=\"_parent\"><img src=\"https://colab.research.google.com/assets/colab-badge.svg\" alt=\"Open In Colab\"/></a>"
      ]
    },
    {
      "cell_type": "markdown",
      "source": [
        "prediction of national poll of health aging\n",
        "\n",
        "Q1.identify the top 5 reasons for health aging?\n",
        "\n",
        " Q2.Name the community which has highest aging issues?\n",
        "\n",
        "  Q3.identify the gender which has most aging and least aging issues?\n",
        "  \n",
        "  Q4.Does age, employmentand mental stress contribution to health aging?\n",
        "  \n",
        "  \n",
        "  Q5.name the category which visits most number of doctors?"
      ],
      "metadata": {
        "id": "nkSczYmVUfJz"
      }
    },
    {
      "cell_type": "code",
      "execution_count": 56,
      "metadata": {
        "colab": {
          "base_uri": "https://localhost:8080/"
        },
        "id": "mbgLMRIxRdUb",
        "outputId": "83cd93a2-bb19-4801-814b-fcb8e3aa340e"
      },
      "outputs": [
        {
          "output_type": "stream",
          "name": "stdout",
          "text": [
            "Top 5 reasons for healthy aging:\n",
            "Dental Health                         3.009804\n",
            "Employment                            2.806723\n",
            "Phyiscal Health                       2.794118\n",
            "Mental Health                         1.988796\n",
            "Stress Keeps Patient from Sleeping    0.247899\n",
            "dtype: float64\n"
          ]
        }
      ],
      "source": [
        "import pandas as pd\n",
        "file_path = '/content/national+poll+on+healthy+aging+(npha) (3).zip'\n",
        "data = pd.read_csv(file_path)\n",
        "columns_of_interest = ['Phyiscal Health', 'Mental Health', 'Dental Health',\n",
        "                        'Employment', 'Stress Keeps Patient from Sleeping']\n",
        "factor_means = data[columns_of_interest].mean()\n",
        "top_5_reasons = factor_means.sort_values(ascending=False).head(5)\n",
        "print(\"Top 5 reasons for healthy aging:\")\n",
        "print(top_5_reasons)"
      ]
    },
    {
      "cell_type": "code",
      "source": [
        "community_health = data.groupby('Race')[['Phyiscal Health', 'Mental Health', 'Dental Health',\n",
        "                                         'Employment', 'Stress Keeps Patient from Sleeping']].mean()\n",
        "community_health['Aging Issues Score'] = community_health.mean(axis=1)\n",
        "highest_aging_community = community_health['Aging Issues Score'].idxmin()\n",
        "highest_aging_score = community_health['Aging Issues Score'].min()\n",
        "\n",
        "print(f\"The community with the highest aging issues is {highest_aging_community} with a score\")"
      ],
      "metadata": {
        "colab": {
          "base_uri": "https://localhost:8080/"
        },
        "id": "TaRgFU15SGPF",
        "outputId": "33bf4d8e-fedc-4252-e3ee-c462bf903230"
      },
      "execution_count": 57,
      "outputs": [
        {
          "output_type": "stream",
          "name": "stdout",
          "text": [
            "The community with the highest aging issues is 1 with a score\n"
          ]
        }
      ]
    },
    {
      "cell_type": "code",
      "source": [
        "gender_health = data.groupby('Gender')[['Phyiscal Health', 'Mental Health', 'Dental Health',\n",
        "                                         'Employment', 'Stress Keeps Patient from Sleeping']].mean()\n",
        "gender_health['Aging Issues Score'] = gender_health.mean(axis=1)\n",
        "most_aging_gender = gender_health['Aging Issues Score'].idxmin()\n",
        "least_aging_gender = gender_health['Aging Issues Score'].idxmax()\n",
        "most_aging_score = gender_health['Aging Issues Score'].min()\n",
        "least_aging_score = gender_health['Aging Issues Score'].max()\n",
        "\n",
        "print(f\"The gender with the most aging issues is {most_aging_gender} with a score of {most_aging_score}.\")\n",
        "print(f\"The gender with the least aging issues is {least_aging_gender} with a score of {least_aging_score}.\")"
      ],
      "metadata": {
        "colab": {
          "base_uri": "https://localhost:8080/"
        },
        "id": "6RuhNiPASjIW",
        "outputId": "152ff72b-2ff5-42b5-ff1f-c16512925b04"
      },
      "execution_count": 58,
      "outputs": [
        {
          "output_type": "stream",
          "name": "stdout",
          "text": [
            "The gender with the most aging issues is 1 with a score of 2.1551401869158875.\n",
            "The gender with the least aging issues is 2 with a score of 2.18117048346056.\n"
          ]
        }
      ]
    },
    {
      "cell_type": "code",
      "source": [
        "\n",
        "np.random.seed(42)\n",
        "n_samples = 300\n",
        "age = np.random.randint(20, 80, n_samples)\n",
        "employment = np.random.choice([0, 1], n_samples)\n",
        "stress_level = np.random.randint(1, 11, n_samples)\n",
        "health_aging_score = 100 - (0.3 * age + 4 * stress_level - 8 * employment + np.random.normal(0, 10, n_samples))\n",
        "data = pd.DataFrame({\n",
        "    'Age': age,\n",
        "    'Employment': employment,\n",
        "    'Stress_Level': stress_level,\n",
        "    'Health_Aging_Score': health_aging_score\n",
        "})\n",
        "print(data.head())\n",
        "X = data[['Age', 'Employment', 'Stress_Level']]\n",
        "X_train, X_test, y_train, y_test = train_test_split(X, y, test_size=0.2, random_state=42)\n",
        "model = LinearRegression()\n",
        "model.fit(X_train, y_train)\n",
        "y_pred = model.predict(X_test)\n",
        "mse = mean_squared_error(y_test, y_pred)\n",
        "r2 = r2_score(y_test, y_pred)\n",
        "print(f'Mean Squared Error (MSE): {mse}')\n",
        "print(f'R^2 Score: {r2}')\n",
        "print(f'Intercept: {model.intercept_}')\n",
        "print(f'Coefficients: {model.coef_}')\n",
        "\n"
      ],
      "metadata": {
        "colab": {
          "base_uri": "https://localhost:8080/"
        },
        "id": "5umx0kw6Z14y",
        "outputId": "6a4d3ecf-903c-4b48-8acf-a879167ccbb2"
      },
      "execution_count": 59,
      "outputs": [
        {
          "output_type": "stream",
          "name": "stdout",
          "text": [
            "   Age  Employment  Stress_Level  Health_Aging_Score\n",
            "0   58           0             9           44.900271\n",
            "1   71           0             5           47.167548\n",
            "2   48           1             1           79.334202\n",
            "3   34           0            10           48.139119\n",
            "4   62           1            10           59.603832\n",
            "Mean Squared Error (MSE): 98.45142023652686\n",
            "R^2 Score: 0.613878188102873\n",
            "Intercept: 93.22734265160088\n",
            "Coefficients: [-0.20390801 11.80384276 -3.94518353]\n"
          ]
        }
      ]
    },
    {
      "cell_type": "code",
      "source": [
        "data = pd.read_csv('/content/national+poll+on+healthy+aging+(npha) (3).zip')\n",
        "print(\"Columns in the dataset:\\n\", data.columns)\n",
        "print(\"\\nFirst few rows of the dataset:\\n\", data.head())\n",
        "category_with_most_visits = doctor_visits_by_category.idxmax()\n",
        "most_visits = doctor_visits_by_category.max()\n",
        "print(f\"\\nThe category with the most number of doctor visits is {category_with_most_visits} with an average of {most_visits} visits.\")\n"
      ],
      "metadata": {
        "colab": {
          "base_uri": "https://localhost:8080/"
        },
        "id": "O6NKMdzHewfG",
        "outputId": "63b855ee-54e4-4a23-c26e-ce3e3498313b"
      },
      "execution_count": 60,
      "outputs": [
        {
          "output_type": "stream",
          "name": "stdout",
          "text": [
            "Columns in the dataset:\n",
            " Index(['Number of Doctors Visited', 'Age', 'Phyiscal Health', 'Mental Health',\n",
            "       'Dental Health', 'Employment', 'Stress Keeps Patient from Sleeping',\n",
            "       'Medication Keeps Patient from Sleeping',\n",
            "       'Pain Keeps Patient from Sleeping',\n",
            "       'Bathroom Needs Keeps Patient from Sleeping',\n",
            "       'Uknown Keeps Patient from Sleeping', 'Trouble Sleeping',\n",
            "       'Prescription Sleep Medication', 'Race', 'Gender'],\n",
            "      dtype='object')\n",
            "\n",
            "First few rows of the dataset:\n",
            "    Number of Doctors Visited  Age  Phyiscal Health  Mental Health  \\\n",
            "0                          3    2                4              3   \n",
            "1                          2    2                4              2   \n",
            "2                          3    2                3              2   \n",
            "3                          1    2                3              2   \n",
            "4                          3    2                3              3   \n",
            "\n",
            "   Dental Health  Employment  Stress Keeps Patient from Sleeping  \\\n",
            "0              3           3                                   0   \n",
            "1              3           3                                   1   \n",
            "2              3           3                                   0   \n",
            "3              3           3                                   0   \n",
            "4              3           3                                   1   \n",
            "\n",
            "   Medication Keeps Patient from Sleeping  Pain Keeps Patient from Sleeping  \\\n",
            "0                                       0                                 0   \n",
            "1                                       0                                 0   \n",
            "2                                       0                                 0   \n",
            "3                                       0                                 0   \n",
            "4                                       0                                 0   \n",
            "\n",
            "   Bathroom Needs Keeps Patient from Sleeping  \\\n",
            "0                                           0   \n",
            "1                                           1   \n",
            "2                                           0   \n",
            "3                                           1   \n",
            "4                                           0   \n",
            "\n",
            "   Uknown Keeps Patient from Sleeping  Trouble Sleeping  \\\n",
            "0                                   1                 2   \n",
            "1                                   0                 3   \n",
            "2                                   1                 3   \n",
            "3                                   0                 3   \n",
            "4                                   0                 2   \n",
            "\n",
            "   Prescription Sleep Medication  Race  Gender  \n",
            "0                              3     1       2  \n",
            "1                              3     1       1  \n",
            "2                              3     4       1  \n",
            "3                              3     4       2  \n",
            "4                              3     1       2  \n",
            "\n",
            "The category with the most number of doctor visits is 1 with an average of 2.1121495327102804 visits.\n"
          ]
        }
      ]
    }
  ]
}